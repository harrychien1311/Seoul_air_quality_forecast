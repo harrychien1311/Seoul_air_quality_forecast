{
 "cells": [
  {
   "cell_type": "code",
   "execution_count": 1,
   "id": "5916931b",
   "metadata": {},
   "outputs": [],
   "source": [
    "import pandas as pd\n",
    "import numpy as np\n",
    "from sklearn.model_selection import train_test_split"
   ]
  },
  {
   "cell_type": "code",
   "execution_count": 2,
   "id": "3761f8b4",
   "metadata": {},
   "outputs": [],
   "source": [
    "data = pd.read_csv(\"data/seoul-air-quality.csv\")"
   ]
  },
  {
   "cell_type": "code",
   "execution_count": 3,
   "id": "ac8b17e2",
   "metadata": {},
   "outputs": [
    {
     "name": "stdout",
     "output_type": "stream",
     "text": [
      "<class 'pandas.core.frame.DataFrame'>\n",
      "RangeIndex: 3215 entries, 0 to 3214\n",
      "Data columns (total 7 columns):\n",
      " #   Column  Non-Null Count  Dtype \n",
      "---  ------  --------------  ----- \n",
      " 0   date    3215 non-null   object\n",
      " 1    pm25   3215 non-null   object\n",
      " 2    pm10   3215 non-null   object\n",
      " 3    o3     3215 non-null   object\n",
      " 4    no2    3215 non-null   object\n",
      " 5    so2    3215 non-null   object\n",
      " 6    co     3215 non-null   object\n",
      "dtypes: object(7)\n",
      "memory usage: 175.9+ KB\n"
     ]
    }
   ],
   "source": [
    "data.info()"
   ]
  },
  {
   "cell_type": "markdown",
   "id": "baebb553",
   "metadata": {},
   "source": [
    "## Preprocessing data"
   ]
  },
  {
   "cell_type": "code",
   "execution_count": 4,
   "id": "29e1805d",
   "metadata": {},
   "outputs": [],
   "source": [
    "data.replace(\" \", \"0\", inplace = True)"
   ]
  },
  {
   "cell_type": "code",
   "execution_count": 5,
   "id": "c1e9e59d",
   "metadata": {},
   "outputs": [],
   "source": [
    "data['date'] = pd.to_datetime(data['date'])"
   ]
  },
  {
   "cell_type": "code",
   "execution_count": 6,
   "id": "e010a9a5",
   "metadata": {},
   "outputs": [],
   "source": [
    "data.sort_values(by='date', ascending=False, inplace=True)"
   ]
  },
  {
   "cell_type": "code",
   "execution_count": 7,
   "id": "1b23d57f",
   "metadata": {},
   "outputs": [
    {
     "data": {
      "text/html": [
       "<div>\n",
       "<style scoped>\n",
       "    .dataframe tbody tr th:only-of-type {\n",
       "        vertical-align: middle;\n",
       "    }\n",
       "\n",
       "    .dataframe tbody tr th {\n",
       "        vertical-align: top;\n",
       "    }\n",
       "\n",
       "    .dataframe thead th {\n",
       "        text-align: right;\n",
       "    }\n",
       "</style>\n",
       "<table border=\"1\" class=\"dataframe\">\n",
       "  <thead>\n",
       "    <tr style=\"text-align: right;\">\n",
       "      <th></th>\n",
       "      <th>date</th>\n",
       "      <th>pm25</th>\n",
       "      <th>pm10</th>\n",
       "      <th>o3</th>\n",
       "      <th>no2</th>\n",
       "      <th>so2</th>\n",
       "      <th>co</th>\n",
       "    </tr>\n",
       "  </thead>\n",
       "  <tbody>\n",
       "    <tr>\n",
       "      <th>21</th>\n",
       "      <td>2022-12-22</td>\n",
       "      <td>71</td>\n",
       "      <td>0</td>\n",
       "      <td>0</td>\n",
       "      <td>0</td>\n",
       "      <td>0</td>\n",
       "      <td>0</td>\n",
       "    </tr>\n",
       "    <tr>\n",
       "      <th>20</th>\n",
       "      <td>2022-12-21</td>\n",
       "      <td>104</td>\n",
       "      <td>41</td>\n",
       "      <td>21</td>\n",
       "      <td>15</td>\n",
       "      <td>3</td>\n",
       "      <td>4</td>\n",
       "    </tr>\n",
       "    <tr>\n",
       "      <th>19</th>\n",
       "      <td>2022-12-20</td>\n",
       "      <td>83</td>\n",
       "      <td>44</td>\n",
       "      <td>23</td>\n",
       "      <td>39</td>\n",
       "      <td>4</td>\n",
       "      <td>8</td>\n",
       "    </tr>\n",
       "    <tr>\n",
       "      <th>18</th>\n",
       "      <td>2022-12-19</td>\n",
       "      <td>53</td>\n",
       "      <td>36</td>\n",
       "      <td>7</td>\n",
       "      <td>44</td>\n",
       "      <td>4</td>\n",
       "      <td>7</td>\n",
       "    </tr>\n",
       "    <tr>\n",
       "      <th>17</th>\n",
       "      <td>2022-12-18</td>\n",
       "      <td>32</td>\n",
       "      <td>23</td>\n",
       "      <td>13</td>\n",
       "      <td>30</td>\n",
       "      <td>3</td>\n",
       "      <td>5</td>\n",
       "    </tr>\n",
       "  </tbody>\n",
       "</table>\n",
       "</div>"
      ],
      "text/plain": [
       "         date  pm25  pm10  o3  no2  so2  co\n",
       "21 2022-12-22    71     0   0    0    0   0\n",
       "20 2022-12-21   104    41  21   15    3   4\n",
       "19 2022-12-20    83    44  23   39    4   8\n",
       "18 2022-12-19    53    36   7   44    4   7\n",
       "17 2022-12-18    32    23  13   30    3   5"
      ]
     },
     "execution_count": 7,
     "metadata": {},
     "output_type": "execute_result"
    }
   ],
   "source": [
    "data.head()"
   ]
  },
  {
   "cell_type": "code",
   "execution_count": 8,
   "id": "26ee957d",
   "metadata": {},
   "outputs": [],
   "source": [
    "feature_dict = {\" pm25\":\"pm25\", \" pm10\":\"pm10\", \" o3\":\"o3\", \" no2\":\"no2\", \" so2\":\"so2\", \" co\":\"co\"}\n",
    "data.rename(columns = feature_dict, inplace = True)\n",
    "feature_list = [\"pm25\",\"pm10\", \"o3\", \"no2\", \"so2\", \"co\"]\n",
    "for feature in feature_list:\n",
    "    data[feature] = data[feature].astype(float)"
   ]
  },
  {
   "cell_type": "code",
   "execution_count": 11,
   "id": "734d605e",
   "metadata": {},
   "outputs": [
    {
     "name": "stdout",
     "output_type": "stream",
     "text": [
      "<class 'pandas.core.frame.DataFrame'>\n",
      "Int64Index: 3215 entries, 21 to 3214\n",
      "Data columns (total 7 columns):\n",
      " #   Column  Non-Null Count  Dtype         \n",
      "---  ------  --------------  -----         \n",
      " 0   date    3215 non-null   datetime64[ns]\n",
      " 1   pm25    3215 non-null   float64       \n",
      " 2   pm10    3215 non-null   float64       \n",
      " 3   o3      3215 non-null   float64       \n",
      " 4   no2     3215 non-null   float64       \n",
      " 5   so2     3215 non-null   float64       \n",
      " 6   co      3215 non-null   float64       \n",
      "dtypes: datetime64[ns](1), float64(6)\n",
      "memory usage: 200.9 KB\n"
     ]
    }
   ],
   "source": [
    "data.info()"
   ]
  },
  {
   "cell_type": "code",
   "execution_count": 71,
   "id": "592a1cd2",
   "metadata": {},
   "outputs": [
    {
     "data": {
      "text/plain": [
       "['pm25(t-3)',\n",
       " 'pm10(t-3)',\n",
       " 'o3(t-3)',\n",
       " 'no2(t-3)',\n",
       " 'so2(t-3)',\n",
       " 'co(t-3)',\n",
       " 'pm25(t-2)',\n",
       " 'pm10(t-2)',\n",
       " 'o3(t-2)',\n",
       " 'no2(t-2)',\n",
       " 'so2(t-2)',\n",
       " 'co(t-2)',\n",
       " 'pm25(t-1)',\n",
       " 'pm10(t-1)',\n",
       " 'o3(t-1)',\n",
       " 'no2(t-1)',\n",
       " 'so2(t-1)',\n",
       " 'co(t-1)',\n",
       " 'pm25(t+0)',\n",
       " 'pm10(t+0)',\n",
       " 'o3(t+0)',\n",
       " 'no2(t+0)',\n",
       " 'so2(t+0)',\n",
       " 'co(t+0)',\n",
       " 'pm25(t+1)',\n",
       " 'pm10(t+1)',\n",
       " 'o3(t+1)',\n",
       " 'no2(t+1)',\n",
       " 'so2(t+1)',\n",
       " 'co(t+1)',\n",
       " 'pm25(t+2)',\n",
       " 'pm10(t+2)',\n",
       " 'o3(t+2)',\n",
       " 'no2(t+2)',\n",
       " 'so2(t+2)',\n",
       " 'co(t+2)']"
      ]
     },
     "execution_count": 71,
     "metadata": {},
     "output_type": "execute_result"
    }
   ],
   "source": [
    "names = list()\n",
    "for i in range(3, 0 ,-1):\n",
    "    names += [f'{name}(t-{i})' for name in feature_list]\n",
    "for i in range(0,3):\n",
    "    names += [f'{name}(t+{i})' for name in feature_list]\n",
    "names\n",
    "    "
   ]
  },
  {
   "cell_type": "code",
   "execution_count": 184,
   "id": "d2f2f9f3",
   "metadata": {},
   "outputs": [],
   "source": [
    "def make_sequence(df, n_input, n_out=3):\n",
    "    cols, names = list(), list()\n",
    "    for i in range(n_input, 0, -1):\n",
    "        cols.append(df.shift(-i))\n",
    "        names += [f'{name}(t-{i})' for name in feature_list] \n",
    "    for i in range(0, n_out+1):\n",
    "        cols.append(df.shift(i))\n",
    "        if i == 0:\n",
    "            names += [f'{name}(t)' for name in feature_list]\n",
    "        else:\n",
    "            names += [f'{name}(t+{i})' for name in feature_list]\n",
    "    agg = pd.concat(cols, axis = 1)\n",
    "    agg.columns = names\n",
    "    agg.dropna(inplace = True)\n",
    "    return agg"
   ]
  },
  {
   "cell_type": "code",
   "execution_count": 185,
   "id": "d8a7f7d0",
   "metadata": {},
   "outputs": [],
   "source": [
    "def split_dataset(data):\n",
    "    # split data into train and test set\n",
    "    train, test = data.iloc[:2000, 1: ], data.iloc[2000:,1:]\n",
    "    return train, test"
   ]
  },
  {
   "cell_type": "code",
   "execution_count": 186,
   "id": "a60857a6",
   "metadata": {},
   "outputs": [],
   "source": [
    "train_data, test_data = split_dataset(data)"
   ]
  },
  {
   "cell_type": "code",
   "execution_count": 187,
   "id": "e3dec15e",
   "metadata": {},
   "outputs": [
    {
     "name": "stdout",
     "output_type": "stream",
     "text": [
      "<class 'pandas.core.frame.DataFrame'>\n",
      "Int64Index: 2000 entries, 21 to 1968\n",
      "Data columns (total 6 columns):\n",
      " #   Column  Non-Null Count  Dtype  \n",
      "---  ------  --------------  -----  \n",
      " 0   pm25    2000 non-null   float64\n",
      " 1   pm10    2000 non-null   float64\n",
      " 2   o3      2000 non-null   float64\n",
      " 3   no2     2000 non-null   float64\n",
      " 4   so2     2000 non-null   float64\n",
      " 5   co      2000 non-null   float64\n",
      "dtypes: float64(6)\n",
      "memory usage: 109.4 KB\n"
     ]
    }
   ],
   "source": [
    "train_data.info()"
   ]
  },
  {
   "cell_type": "code",
   "execution_count": 188,
   "id": "24858f79",
   "metadata": {},
   "outputs": [
    {
     "name": "stdout",
     "output_type": "stream",
     "text": [
      "<class 'pandas.core.frame.DataFrame'>\n",
      "Int64Index: 1215 entries, 1967 to 3214\n",
      "Data columns (total 6 columns):\n",
      " #   Column  Non-Null Count  Dtype  \n",
      "---  ------  --------------  -----  \n",
      " 0   pm25    1215 non-null   float64\n",
      " 1   pm10    1215 non-null   float64\n",
      " 2   o3      1215 non-null   float64\n",
      " 3   no2     1215 non-null   float64\n",
      " 4   so2     1215 non-null   float64\n",
      " 5   co      1215 non-null   float64\n",
      "dtypes: float64(6)\n",
      "memory usage: 66.4 KB\n"
     ]
    }
   ],
   "source": [
    "test_data.info()"
   ]
  },
  {
   "cell_type": "code",
   "execution_count": 189,
   "id": "7cf0f81c",
   "metadata": {},
   "outputs": [],
   "source": [
    "train_data_sequence = make_sequence(train_data, 5, 1)"
   ]
  },
  {
   "cell_type": "code",
   "execution_count": 190,
   "id": "b77e1612",
   "metadata": {},
   "outputs": [
    {
     "name": "stdout",
     "output_type": "stream",
     "text": [
      "<class 'pandas.core.frame.DataFrame'>\n",
      "Int64Index: 1994 entries, 20 to 1973\n",
      "Data columns (total 42 columns):\n",
      " #   Column     Non-Null Count  Dtype  \n",
      "---  ------     --------------  -----  \n",
      " 0   pm25(t-5)  1994 non-null   float64\n",
      " 1   pm10(t-5)  1994 non-null   float64\n",
      " 2   o3(t-5)    1994 non-null   float64\n",
      " 3   no2(t-5)   1994 non-null   float64\n",
      " 4   so2(t-5)   1994 non-null   float64\n",
      " 5   co(t-5)    1994 non-null   float64\n",
      " 6   pm25(t-4)  1994 non-null   float64\n",
      " 7   pm10(t-4)  1994 non-null   float64\n",
      " 8   o3(t-4)    1994 non-null   float64\n",
      " 9   no2(t-4)   1994 non-null   float64\n",
      " 10  so2(t-4)   1994 non-null   float64\n",
      " 11  co(t-4)    1994 non-null   float64\n",
      " 12  pm25(t-3)  1994 non-null   float64\n",
      " 13  pm10(t-3)  1994 non-null   float64\n",
      " 14  o3(t-3)    1994 non-null   float64\n",
      " 15  no2(t-3)   1994 non-null   float64\n",
      " 16  so2(t-3)   1994 non-null   float64\n",
      " 17  co(t-3)    1994 non-null   float64\n",
      " 18  pm25(t-2)  1994 non-null   float64\n",
      " 19  pm10(t-2)  1994 non-null   float64\n",
      " 20  o3(t-2)    1994 non-null   float64\n",
      " 21  no2(t-2)   1994 non-null   float64\n",
      " 22  so2(t-2)   1994 non-null   float64\n",
      " 23  co(t-2)    1994 non-null   float64\n",
      " 24  pm25(t-1)  1994 non-null   float64\n",
      " 25  pm10(t-1)  1994 non-null   float64\n",
      " 26  o3(t-1)    1994 non-null   float64\n",
      " 27  no2(t-1)   1994 non-null   float64\n",
      " 28  so2(t-1)   1994 non-null   float64\n",
      " 29  co(t-1)    1994 non-null   float64\n",
      " 30  pm25(t)    1994 non-null   float64\n",
      " 31  pm10(t)    1994 non-null   float64\n",
      " 32  o3(t)      1994 non-null   float64\n",
      " 33  no2(t)     1994 non-null   float64\n",
      " 34  so2(t)     1994 non-null   float64\n",
      " 35  co(t)      1994 non-null   float64\n",
      " 36  pm25(t+1)  1994 non-null   float64\n",
      " 37  pm10(t+1)  1994 non-null   float64\n",
      " 38  o3(t+1)    1994 non-null   float64\n",
      " 39  no2(t+1)   1994 non-null   float64\n",
      " 40  so2(t+1)   1994 non-null   float64\n",
      " 41  co(t+1)    1994 non-null   float64\n",
      "dtypes: float64(42)\n",
      "memory usage: 669.9 KB\n"
     ]
    }
   ],
   "source": [
    "train_data_sequence.info()"
   ]
  },
  {
   "cell_type": "code",
   "execution_count": 191,
   "id": "3fc2d9b8",
   "metadata": {},
   "outputs": [
    {
     "data": {
      "text/html": [
       "<div>\n",
       "<style scoped>\n",
       "    .dataframe tbody tr th:only-of-type {\n",
       "        vertical-align: middle;\n",
       "    }\n",
       "\n",
       "    .dataframe tbody tr th {\n",
       "        vertical-align: top;\n",
       "    }\n",
       "\n",
       "    .dataframe thead th {\n",
       "        text-align: right;\n",
       "    }\n",
       "</style>\n",
       "<table border=\"1\" class=\"dataframe\">\n",
       "  <thead>\n",
       "    <tr style=\"text-align: right;\">\n",
       "      <th></th>\n",
       "      <th>pm25(t-5)</th>\n",
       "      <th>pm10(t-5)</th>\n",
       "      <th>o3(t-5)</th>\n",
       "      <th>no2(t-5)</th>\n",
       "      <th>so2(t-5)</th>\n",
       "      <th>co(t-5)</th>\n",
       "      <th>pm25(t-4)</th>\n",
       "      <th>pm10(t-4)</th>\n",
       "      <th>o3(t-4)</th>\n",
       "      <th>no2(t-4)</th>\n",
       "      <th>...</th>\n",
       "      <th>o3(t)</th>\n",
       "      <th>no2(t)</th>\n",
       "      <th>so2(t)</th>\n",
       "      <th>co(t)</th>\n",
       "      <th>pm25(t+1)</th>\n",
       "      <th>pm10(t+1)</th>\n",
       "      <th>o3(t+1)</th>\n",
       "      <th>no2(t+1)</th>\n",
       "      <th>so2(t+1)</th>\n",
       "      <th>co(t+1)</th>\n",
       "    </tr>\n",
       "  </thead>\n",
       "  <tbody>\n",
       "    <tr>\n",
       "      <th>20</th>\n",
       "      <td>74.0</td>\n",
       "      <td>27.0</td>\n",
       "      <td>22.0</td>\n",
       "      <td>20.0</td>\n",
       "      <td>4.0</td>\n",
       "      <td>5.0</td>\n",
       "      <td>60.0</td>\n",
       "      <td>21.0</td>\n",
       "      <td>24.0</td>\n",
       "      <td>11.0</td>\n",
       "      <td>...</td>\n",
       "      <td>21.0</td>\n",
       "      <td>15.0</td>\n",
       "      <td>3.0</td>\n",
       "      <td>4.0</td>\n",
       "      <td>71.0</td>\n",
       "      <td>0.0</td>\n",
       "      <td>0.0</td>\n",
       "      <td>0.0</td>\n",
       "      <td>0.0</td>\n",
       "      <td>0.0</td>\n",
       "    </tr>\n",
       "    <tr>\n",
       "      <th>19</th>\n",
       "      <td>74.0</td>\n",
       "      <td>33.0</td>\n",
       "      <td>15.0</td>\n",
       "      <td>25.0</td>\n",
       "      <td>3.0</td>\n",
       "      <td>6.0</td>\n",
       "      <td>74.0</td>\n",
       "      <td>27.0</td>\n",
       "      <td>22.0</td>\n",
       "      <td>20.0</td>\n",
       "      <td>...</td>\n",
       "      <td>23.0</td>\n",
       "      <td>39.0</td>\n",
       "      <td>4.0</td>\n",
       "      <td>8.0</td>\n",
       "      <td>104.0</td>\n",
       "      <td>41.0</td>\n",
       "      <td>21.0</td>\n",
       "      <td>15.0</td>\n",
       "      <td>3.0</td>\n",
       "      <td>4.0</td>\n",
       "    </tr>\n",
       "    <tr>\n",
       "      <th>18</th>\n",
       "      <td>44.0</td>\n",
       "      <td>33.0</td>\n",
       "      <td>14.0</td>\n",
       "      <td>34.0</td>\n",
       "      <td>2.0</td>\n",
       "      <td>6.0</td>\n",
       "      <td>74.0</td>\n",
       "      <td>33.0</td>\n",
       "      <td>15.0</td>\n",
       "      <td>25.0</td>\n",
       "      <td>...</td>\n",
       "      <td>7.0</td>\n",
       "      <td>44.0</td>\n",
       "      <td>4.0</td>\n",
       "      <td>7.0</td>\n",
       "      <td>83.0</td>\n",
       "      <td>44.0</td>\n",
       "      <td>23.0</td>\n",
       "      <td>39.0</td>\n",
       "      <td>4.0</td>\n",
       "      <td>8.0</td>\n",
       "    </tr>\n",
       "    <tr>\n",
       "      <th>17</th>\n",
       "      <td>115.0</td>\n",
       "      <td>48.0</td>\n",
       "      <td>20.0</td>\n",
       "      <td>13.0</td>\n",
       "      <td>3.0</td>\n",
       "      <td>3.0</td>\n",
       "      <td>44.0</td>\n",
       "      <td>33.0</td>\n",
       "      <td>14.0</td>\n",
       "      <td>34.0</td>\n",
       "      <td>...</td>\n",
       "      <td>13.0</td>\n",
       "      <td>30.0</td>\n",
       "      <td>3.0</td>\n",
       "      <td>5.0</td>\n",
       "      <td>53.0</td>\n",
       "      <td>36.0</td>\n",
       "      <td>7.0</td>\n",
       "      <td>44.0</td>\n",
       "      <td>4.0</td>\n",
       "      <td>7.0</td>\n",
       "    </tr>\n",
       "    <tr>\n",
       "      <th>16</th>\n",
       "      <td>81.0</td>\n",
       "      <td>137.0</td>\n",
       "      <td>24.0</td>\n",
       "      <td>19.0</td>\n",
       "      <td>2.0</td>\n",
       "      <td>4.0</td>\n",
       "      <td>115.0</td>\n",
       "      <td>48.0</td>\n",
       "      <td>20.0</td>\n",
       "      <td>13.0</td>\n",
       "      <td>...</td>\n",
       "      <td>24.0</td>\n",
       "      <td>11.0</td>\n",
       "      <td>3.0</td>\n",
       "      <td>4.0</td>\n",
       "      <td>32.0</td>\n",
       "      <td>23.0</td>\n",
       "      <td>13.0</td>\n",
       "      <td>30.0</td>\n",
       "      <td>3.0</td>\n",
       "      <td>5.0</td>\n",
       "    </tr>\n",
       "  </tbody>\n",
       "</table>\n",
       "<p>5 rows × 42 columns</p>\n",
       "</div>"
      ],
      "text/plain": [
       "    pm25(t-5)  pm10(t-5)  o3(t-5)  no2(t-5)  so2(t-5)  co(t-5)  pm25(t-4)  \\\n",
       "20       74.0       27.0     22.0      20.0       4.0      5.0       60.0   \n",
       "19       74.0       33.0     15.0      25.0       3.0      6.0       74.0   \n",
       "18       44.0       33.0     14.0      34.0       2.0      6.0       74.0   \n",
       "17      115.0       48.0     20.0      13.0       3.0      3.0       44.0   \n",
       "16       81.0      137.0     24.0      19.0       2.0      4.0      115.0   \n",
       "\n",
       "    pm10(t-4)  o3(t-4)  no2(t-4)  ...  o3(t)  no2(t)  so2(t)  co(t)  \\\n",
       "20       21.0     24.0      11.0  ...   21.0    15.0     3.0    4.0   \n",
       "19       27.0     22.0      20.0  ...   23.0    39.0     4.0    8.0   \n",
       "18       33.0     15.0      25.0  ...    7.0    44.0     4.0    7.0   \n",
       "17       33.0     14.0      34.0  ...   13.0    30.0     3.0    5.0   \n",
       "16       48.0     20.0      13.0  ...   24.0    11.0     3.0    4.0   \n",
       "\n",
       "    pm25(t+1)  pm10(t+1)  o3(t+1)  no2(t+1)  so2(t+1)  co(t+1)  \n",
       "20       71.0        0.0      0.0       0.0       0.0      0.0  \n",
       "19      104.0       41.0     21.0      15.0       3.0      4.0  \n",
       "18       83.0       44.0     23.0      39.0       4.0      8.0  \n",
       "17       53.0       36.0      7.0      44.0       4.0      7.0  \n",
       "16       32.0       23.0     13.0      30.0       3.0      5.0  \n",
       "\n",
       "[5 rows x 42 columns]"
      ]
     },
     "execution_count": 191,
     "metadata": {},
     "output_type": "execute_result"
    }
   ],
   "source": [
    "train_data_sequence.head()"
   ]
  },
  {
   "cell_type": "code",
   "execution_count": 192,
   "id": "0a272fe0",
   "metadata": {},
   "outputs": [],
   "source": [
    "test_data_sequence= make_sequence(test_data, 5, 1)"
   ]
  },
  {
   "cell_type": "code",
   "execution_count": 193,
   "id": "ec61b57a",
   "metadata": {},
   "outputs": [
    {
     "data": {
      "text/plain": [
       "['pm25(t+1)', 'pm10(t+1)', 'o3(t+1)', 'no2(t+1)', 'so2(t+1)', 'co(t+1)']"
      ]
     },
     "execution_count": 193,
     "metadata": {},
     "output_type": "execute_result"
    }
   ],
   "source": [
    "output_list = list()\n",
    "for i in range (1, 2):\n",
    "    output_list += [f'{name}(t+{i})' for name in feature_list]\n",
    "output_list"
   ]
  },
  {
   "cell_type": "code",
   "execution_count": 194,
   "id": "050a11d8",
   "metadata": {},
   "outputs": [],
   "source": [
    "X_train = train_data_sequence.drop(output_list, axis = 1)"
   ]
  },
  {
   "cell_type": "code",
   "execution_count": 195,
   "id": "92f3f3d4",
   "metadata": {},
   "outputs": [],
   "source": [
    "y_train = train_data_sequence[output_list]"
   ]
  },
  {
   "cell_type": "code",
   "execution_count": 196,
   "id": "fff96090",
   "metadata": {},
   "outputs": [],
   "source": [
    "X_test = test_data_sequence.drop(output_list, axis = 1)"
   ]
  },
  {
   "cell_type": "code",
   "execution_count": 197,
   "id": "4a6e3840",
   "metadata": {},
   "outputs": [],
   "source": [
    "y_test = test_data_sequence[output_list]"
   ]
  },
  {
   "cell_type": "markdown",
   "id": "d283a15d",
   "metadata": {},
   "source": [
    "## Model training"
   ]
  },
  {
   "cell_type": "code",
   "execution_count": 198,
   "id": "e41de8ce",
   "metadata": {},
   "outputs": [],
   "source": [
    "from xgboost import XGBRegressor"
   ]
  },
  {
   "cell_type": "code",
   "execution_count": 199,
   "id": "05ba72dd",
   "metadata": {},
   "outputs": [],
   "source": [
    "def train(train_x, train_y):\n",
    "    model = XGBRegressor(n_estimators = 10, n_jobs = 20, gpu_id = 0)\n",
    "    model.fit(train_x, train_y)\n",
    "    return model\n",
    "    \n",
    "    "
   ]
  },
  {
   "cell_type": "code",
   "execution_count": 200,
   "id": "8a41c6f8",
   "metadata": {},
   "outputs": [],
   "source": [
    "model_xgb = train(X_train, y_train)"
   ]
  },
  {
   "cell_type": "markdown",
   "id": "cc999a0a",
   "metadata": {},
   "source": [
    "## Model testing"
   ]
  },
  {
   "cell_type": "code",
   "execution_count": 201,
   "id": "ae67f403",
   "metadata": {},
   "outputs": [],
   "source": [
    "from sklearn.metrics import mean_absolute_error, r2_score"
   ]
  },
  {
   "cell_type": "code",
   "execution_count": 202,
   "id": "c4107090",
   "metadata": {},
   "outputs": [],
   "source": [
    "def test(test_x, test_y, trained_model):\n",
    "    preds = trained_model.predict(test_x)\n",
    "    return mean_absolute_error(np.array(test_y[\"co(t+1)\"]), preds[:,5]), r2_score(np.array(test_y[\"co(t+1)\"]), preds[:,5]), preds"
   ]
  },
  {
   "cell_type": "code",
   "execution_count": 203,
   "id": "3c271c45",
   "metadata": {},
   "outputs": [],
   "source": [
    "mae, r2, preds = test(X_test, y_test, model_xgb)"
   ]
  },
  {
   "cell_type": "code",
   "execution_count": 204,
   "id": "3afb8d94",
   "metadata": {},
   "outputs": [
    {
     "data": {
      "text/plain": [
       "(1.4991314130148876, 0.25381809320372806)"
      ]
     },
     "execution_count": 204,
     "metadata": {},
     "output_type": "execute_result"
    }
   ],
   "source": [
    "mae, r2"
   ]
  },
  {
   "cell_type": "code",
   "execution_count": 205,
   "id": "dd8baf34",
   "metadata": {},
   "outputs": [],
   "source": [
    "import matplotlib.pyplot as plt"
   ]
  },
  {
   "cell_type": "code",
   "execution_count": 206,
   "id": "e52f7bb4",
   "metadata": {},
   "outputs": [
    {
     "data": {
      "image/png": "[encoded data removed]",
      "text/plain": [
       "<Figure size 432x288 with 1 Axes>"
      ]
     },
     "metadata": {
      "needs_background": "light"
     },
     "output_type": "display_data"
    }
   ],
   "source": [
    "plt.plot(y_test[\"co(t+1)\"], label='true')\n",
    "plt.plot(preds[:,5], label='expected')\n",
    "plt.legend()\n",
    "plt.grid()\n",
    "plt.show()"
   ]
  },
  {
   "cell_type": "code",
   "execution_count": 207,
   "id": "b8a1fb01",
   "metadata": {},
   "outputs": [],
   "source": [
    "import pickle"
   ]
  },
  {
   "cell_type": "code",
   "execution_count": 208,
   "id": "c5608354",
   "metadata": {},
   "outputs": [],
   "source": [
    "pickle.dump(model_xgb, open('xgb.pkl', 'wb'))"
   ]
  },
  {
   "cell_type": "code",
   "execution_count": 212,
   "id": "43987e89",
   "metadata": {},
   "outputs": [],
   "source": [
    "data_selected = data.head(5).drop('date', axis = 1)"
   ]
  },
  {
   "cell_type": "code",
   "execution_count": 214,
   "id": "6f0ba94e",
   "metadata": {},
   "outputs": [
    {
     "data": {
      "text/plain": [
       "array([[ 71.,   0.,   0.,   0.,   0.,   0., 104.,  41.,  21.,  15.,   3.,\n",
       "          4.,  83.,  44.,  23.,  39.,   4.,   8.,  53.,  36.,   7.,  44.,\n",
       "          4.,   7.,  32.,  23.,  13.,  30.,   3.,   5.]])"
      ]
     },
     "execution_count": 214,
     "metadata": {},
     "output_type": "execute_result"
    }
   ],
   "source": [
    "np.expand_dims(data_selected.to_numpy().flatten(), axis = 0)"
   ]
  },
  {
   "cell_type": "code",
   "execution_count": 215,
   "id": "8643b365",
   "metadata": {},
   "outputs": [
    {
     "data": {
      "text/plain": [
       "21   2022-12-22\n",
       "Name: date, dtype: datetime64[ns]"
      ]
     },
     "execution_count": 215,
     "metadata": {},
     "output_type": "execute_result"
    }
   ],
   "source": [
    "data.head(1)[\"date\"]"
   ]
  },
  {
   "cell_type": "code",
   "execution_count": 216,
   "id": "215788f3",
   "metadata": {},
   "outputs": [
    {
     "data": {
      "text/plain": [
       "Timestamp('2022-12-22 00:00:00')"
      ]
     },
     "execution_count": 216,
     "metadata": {},
     "output_type": "execute_result"
    }
   ],
   "source": [
    "data.iloc[0][\"date\"]"
   ]
  },
  {
   "cell_type": "code",
   "execution_count": 219,
   "id": "a6bd9686",
   "metadata": {},
   "outputs": [
    {
     "data": {
      "text/plain": [
       "Timestamp('2022-12-18 00:00:00')"
      ]
     },
     "execution_count": 219,
     "metadata": {},
     "output_type": "execute_result"
    }
   ],
   "source": [
    "data.iloc[4][\"date\"]"
   ]
  },
  {
   "cell_type": "code",
   "execution_count": 220,
   "id": "11b71837",
   "metadata": {},
   "outputs": [],
   "source": [
    "import hopsworks"
   ]
  },
  {
   "cell_type": "code",
   "execution_count": 261,
   "id": "d9265e8e",
   "metadata": {},
   "outputs": [
    {
     "name": "stdout",
     "output_type": "stream",
     "text": [
      "Connection closed.\n",
      "Connected. Call `.close()` to terminate connection gracefully.\n",
      "\n",
      "Logged in to project, explore it here https://c.app.hopsworks.ai:443/p/8358\n",
      "Connected. Call `.close()` to terminate connection gracefully.\n",
      "2022-12-28 17:43:52,577 INFO: USE `seoul_air_quality_featurestore`\n",
      "2022-12-28 17:43:53,284 INFO: SELECT `fg0`.`date` `date`, `fg0`.`pm25` `pm25`, `fg0`.`pm10` `pm10`, `fg0`.`o3` `o3`, `fg0`.`no2` `no2`, `fg0`.`so2` `so2`, `fg0`.`co` `co`\n",
      "FROM `seoul_air_quality_featurestore`.`air_quality_7` `fg0`\n"
     ]
    },
    {
     "name": "stderr",
     "output_type": "stream",
     "text": [
      "UserWarning: pandas only support SQLAlchemy connectable(engine/connection) ordatabase string URI or sqlite3 DBAPI2 connectionother DBAPI2 objects are not tested, please consider using SQLAlchemy\n"
     ]
    }
   ],
   "source": [
    "project = hopsworks.login()\n",
    "fs = project.get_feature_store()\n",
    "air_quality_data = fs.get_feature_group(\n",
    "        name = \"air_quality\",\n",
    "        version = 7)\n",
    "air_quality_dataframe = air_quality_data.read(dataframe_type = \"pandas\")"
   ]
  },
  {
   "cell_type": "code",
   "execution_count": 262,
   "id": "4721f3c2",
   "metadata": {},
   "outputs": [
    {
     "data": {
      "text/plain": [
       "0      2013-12-31\n",
       "1      2014-01-01\n",
       "2      2014-01-02\n",
       "3      2014-01-03\n",
       "4      2014-01-04\n",
       "          ...    \n",
       "3211   2022-12-19\n",
       "3212   2022-12-20\n",
       "3213   2022-12-21\n",
       "3214   2022-12-22\n",
       "3215   2022-12-28\n",
       "Name: date, Length: 3216, dtype: datetime64[ns]"
      ]
     },
     "execution_count": 262,
     "metadata": {},
     "output_type": "execute_result"
    }
   ],
   "source": [
    "pd.to_datetime(air_quality_dataframe['date'])"
   ]
  },
  {
   "cell_type": "code",
   "execution_count": 263,
   "id": "4c6d60d6",
   "metadata": {},
   "outputs": [
    {
     "data": {
      "text/html": [
       "<div>\n",
       "<style scoped>\n",
       "    .dataframe tbody tr th:only-of-type {\n",
       "        vertical-align: middle;\n",
       "    }\n",
       "\n",
       "    .dataframe tbody tr th {\n",
       "        vertical-align: top;\n",
       "    }\n",
       "\n",
       "    .dataframe thead th {\n",
       "        text-align: right;\n",
       "    }\n",
       "</style>\n",
       "<table border=\"1\" class=\"dataframe\">\n",
       "  <thead>\n",
       "    <tr style=\"text-align: right;\">\n",
       "      <th></th>\n",
       "      <th>date</th>\n",
       "      <th>pm25</th>\n",
       "      <th>pm10</th>\n",
       "      <th>o3</th>\n",
       "      <th>no2</th>\n",
       "      <th>so2</th>\n",
       "      <th>co</th>\n",
       "    </tr>\n",
       "  </thead>\n",
       "  <tbody>\n",
       "    <tr>\n",
       "      <th>3210</th>\n",
       "      <td>1671321600000000000</td>\n",
       "      <td>32.0</td>\n",
       "      <td>23.0</td>\n",
       "      <td>13.0</td>\n",
       "      <td>30.0</td>\n",
       "      <td>3.0</td>\n",
       "      <td>5.0</td>\n",
       "    </tr>\n",
       "    <tr>\n",
       "      <th>3211</th>\n",
       "      <td>1671408000000000000</td>\n",
       "      <td>53.0</td>\n",
       "      <td>36.0</td>\n",
       "      <td>7.0</td>\n",
       "      <td>44.0</td>\n",
       "      <td>4.0</td>\n",
       "      <td>7.0</td>\n",
       "    </tr>\n",
       "    <tr>\n",
       "      <th>3212</th>\n",
       "      <td>1671494400000000000</td>\n",
       "      <td>83.0</td>\n",
       "      <td>44.0</td>\n",
       "      <td>23.0</td>\n",
       "      <td>39.0</td>\n",
       "      <td>4.0</td>\n",
       "      <td>8.0</td>\n",
       "    </tr>\n",
       "    <tr>\n",
       "      <th>3213</th>\n",
       "      <td>1671580800000000000</td>\n",
       "      <td>104.0</td>\n",
       "      <td>41.0</td>\n",
       "      <td>21.0</td>\n",
       "      <td>15.0</td>\n",
       "      <td>3.0</td>\n",
       "      <td>4.0</td>\n",
       "    </tr>\n",
       "    <tr>\n",
       "      <th>3214</th>\n",
       "      <td>1671667200000000000</td>\n",
       "      <td>71.0</td>\n",
       "      <td>0.0</td>\n",
       "      <td>0.0</td>\n",
       "      <td>0.0</td>\n",
       "      <td>0.0</td>\n",
       "      <td>0.0</td>\n",
       "    </tr>\n",
       "    <tr>\n",
       "      <th>3215</th>\n",
       "      <td>1672185600000000000</td>\n",
       "      <td>112.0</td>\n",
       "      <td>44.0</td>\n",
       "      <td>3.2</td>\n",
       "      <td>55.5</td>\n",
       "      <td>4.3</td>\n",
       "      <td>12.3</td>\n",
       "    </tr>\n",
       "  </tbody>\n",
       "</table>\n",
       "</div>"
      ],
      "text/plain": [
       "                     date   pm25  pm10    o3   no2  so2    co\n",
       "3210  1671321600000000000   32.0  23.0  13.0  30.0  3.0   5.0\n",
       "3211  1671408000000000000   53.0  36.0   7.0  44.0  4.0   7.0\n",
       "3212  1671494400000000000   83.0  44.0  23.0  39.0  4.0   8.0\n",
       "3213  1671580800000000000  104.0  41.0  21.0  15.0  3.0   4.0\n",
       "3214  1671667200000000000   71.0   0.0   0.0   0.0  0.0   0.0\n",
       "3215  1672185600000000000  112.0  44.0   3.2  55.5  4.3  12.3"
      ]
     },
     "execution_count": 263,
     "metadata": {},
     "output_type": "execute_result"
    }
   ],
   "source": [
    "air_quality_dataframe.tail(6)"
   ]
  },
  {
   "cell_type": "code",
   "execution_count": 227,
   "id": "fc232d16",
   "metadata": {},
   "outputs": [],
   "source": [
    "from datetime import datetime, date"
   ]
  },
  {
   "cell_type": "code",
   "execution_count": 224,
   "id": "ab47b216",
   "metadata": {},
   "outputs": [
    {
     "data": {
      "text/plain": [
       "21      1.671635e+09\n",
       "20      1.671548e+09\n",
       "19      1.671462e+09\n",
       "18      1.671376e+09\n",
       "17      1.671289e+09\n",
       "            ...     \n",
       "3127    1.388761e+09\n",
       "3126    1.388675e+09\n",
       "3125    1.388588e+09\n",
       "3124    1.388502e+09\n",
       "3214    1.388416e+09\n",
       "Name: date, Length: 3215, dtype: float64"
      ]
     },
     "execution_count": 224,
     "metadata": {},
     "output_type": "execute_result"
    }
   ],
   "source": [
    "data.date.apply(datetime.timestamp)"
   ]
  },
  {
   "cell_type": "code",
   "execution_count": 243,
   "id": "41e312bf",
   "metadata": {},
   "outputs": [
    {
     "ename": "ValueError",
     "evalue": "time data '2022-12-28' does not match format '%Y/%m/%d'",
     "output_type": "error",
     "traceback": [
      "\u001b[0;31m---------------------------------------------------------------------------\u001b[0m",
      "\u001b[0;31mValueError\u001b[0m                                Traceback (most recent call last)",
      "Input \u001b[0;32mIn [243]\u001b[0m, in \u001b[0;36m<cell line: 1>\u001b[0;34m()\u001b[0m\n\u001b[0;32m----> 1\u001b[0m \u001b[38;5;28mint\u001b[39m((\u001b[43mdatetime\u001b[49m\u001b[38;5;241;43m.\u001b[39;49m\u001b[43mstrptime\u001b[49m\u001b[43m(\u001b[49m\u001b[38;5;28;43mstr\u001b[39;49m\u001b[43m(\u001b[49m\u001b[43mdate\u001b[49m\u001b[38;5;241;43m.\u001b[39;49m\u001b[43mtoday\u001b[49m\u001b[43m(\u001b[49m\u001b[43m)\u001b[49m\u001b[43m)\u001b[49m\u001b[43m,\u001b[49m\u001b[38;5;124;43m\"\u001b[39;49m\u001b[38;5;124;43m%\u001b[39;49m\u001b[38;5;124;43mY/\u001b[39;49m\u001b[38;5;124;43m%\u001b[39;49m\u001b[38;5;124;43mm/\u001b[39;49m\u001b[38;5;132;43;01m%d\u001b[39;49;00m\u001b[38;5;124;43m\"\u001b[39;49m\u001b[43m)\u001b[49m\u001b[38;5;241m.\u001b[39mtimestamp()))\n",
      "File \u001b[0;32m~/miniconda3/lib/python3.9/_strptime.py:568\u001b[0m, in \u001b[0;36m_strptime_datetime\u001b[0;34m(cls, data_string, format)\u001b[0m\n\u001b[1;32m    565\u001b[0m \u001b[38;5;28;01mdef\u001b[39;00m \u001b[38;5;21m_strptime_datetime\u001b[39m(\u001b[38;5;28mcls\u001b[39m, data_string, \u001b[38;5;28mformat\u001b[39m\u001b[38;5;241m=\u001b[39m\u001b[38;5;124m\"\u001b[39m\u001b[38;5;132;01m%a\u001b[39;00m\u001b[38;5;124m \u001b[39m\u001b[38;5;124m%\u001b[39m\u001b[38;5;124mb \u001b[39m\u001b[38;5;132;01m%d\u001b[39;00m\u001b[38;5;124m \u001b[39m\u001b[38;5;124m%\u001b[39m\u001b[38;5;124mH:\u001b[39m\u001b[38;5;124m%\u001b[39m\u001b[38;5;124mM:\u001b[39m\u001b[38;5;124m%\u001b[39m\u001b[38;5;124mS \u001b[39m\u001b[38;5;124m%\u001b[39m\u001b[38;5;124mY\u001b[39m\u001b[38;5;124m\"\u001b[39m):\n\u001b[1;32m    566\u001b[0m     \u001b[38;5;124;03m\"\"\"Return a class cls instance based on the input string and the\u001b[39;00m\n\u001b[1;32m    567\u001b[0m \u001b[38;5;124;03m    format string.\"\"\"\u001b[39;00m\n\u001b[0;32m--> 568\u001b[0m     tt, fraction, gmtoff_fraction \u001b[38;5;241m=\u001b[39m \u001b[43m_strptime\u001b[49m\u001b[43m(\u001b[49m\u001b[43mdata_string\u001b[49m\u001b[43m,\u001b[49m\u001b[43m \u001b[49m\u001b[38;5;28;43mformat\u001b[39;49m\u001b[43m)\u001b[49m\n\u001b[1;32m    569\u001b[0m     tzname, gmtoff \u001b[38;5;241m=\u001b[39m tt[\u001b[38;5;241m-\u001b[39m\u001b[38;5;241m2\u001b[39m:]\n\u001b[1;32m    570\u001b[0m     args \u001b[38;5;241m=\u001b[39m tt[:\u001b[38;5;241m6\u001b[39m] \u001b[38;5;241m+\u001b[39m (fraction,)\n",
      "File \u001b[0;32m~/miniconda3/lib/python3.9/_strptime.py:349\u001b[0m, in \u001b[0;36m_strptime\u001b[0;34m(data_string, format)\u001b[0m\n\u001b[1;32m    347\u001b[0m found \u001b[38;5;241m=\u001b[39m format_regex\u001b[38;5;241m.\u001b[39mmatch(data_string)\n\u001b[1;32m    348\u001b[0m \u001b[38;5;28;01mif\u001b[39;00m \u001b[38;5;129;01mnot\u001b[39;00m found:\n\u001b[0;32m--> 349\u001b[0m     \u001b[38;5;28;01mraise\u001b[39;00m \u001b[38;5;167;01mValueError\u001b[39;00m(\u001b[38;5;124m\"\u001b[39m\u001b[38;5;124mtime data \u001b[39m\u001b[38;5;132;01m%r\u001b[39;00m\u001b[38;5;124m does not match format \u001b[39m\u001b[38;5;132;01m%r\u001b[39;00m\u001b[38;5;124m\"\u001b[39m \u001b[38;5;241m%\u001b[39m\n\u001b[1;32m    350\u001b[0m                      (data_string, \u001b[38;5;28mformat\u001b[39m))\n\u001b[1;32m    351\u001b[0m \u001b[38;5;28;01mif\u001b[39;00m \u001b[38;5;28mlen\u001b[39m(data_string) \u001b[38;5;241m!=\u001b[39m found\u001b[38;5;241m.\u001b[39mend():\n\u001b[1;32m    352\u001b[0m     \u001b[38;5;28;01mraise\u001b[39;00m \u001b[38;5;167;01mValueError\u001b[39;00m(\u001b[38;5;124m\"\u001b[39m\u001b[38;5;124munconverted data remains: \u001b[39m\u001b[38;5;132;01m%s\u001b[39;00m\u001b[38;5;124m\"\u001b[39m \u001b[38;5;241m%\u001b[39m\n\u001b[1;32m    353\u001b[0m                       data_string[found\u001b[38;5;241m.\u001b[39mend():])\n",
      "\u001b[0;31mValueError\u001b[0m: time data '2022-12-28' does not match format '%Y/%m/%d'"
     ]
    }
   ],
   "source": [
    "int((datetime.strptime(str(date.today()),\"%Y/%m/%d\").timestamp()))"
   ]
  },
  {
   "cell_type": "code",
   "execution_count": 252,
   "id": "49619ea4",
   "metadata": {},
   "outputs": [],
   "source": [
    "data_clone  = data\n",
    "data_clone[\"date\"] = pd.to_datetime(date.today())\n",
    "data_clone[\"date\"] = data_clone[\"date\"].astype(int)"
   ]
  },
  {
   "cell_type": "code",
   "execution_count": 253,
   "id": "0515551a",
   "metadata": {},
   "outputs": [
    {
     "data": {
      "text/html": [
       "<div>\n",
       "<style scoped>\n",
       "    .dataframe tbody tr th:only-of-type {\n",
       "        vertical-align: middle;\n",
       "    }\n",
       "\n",
       "    .dataframe tbody tr th {\n",
       "        vertical-align: top;\n",
       "    }\n",
       "\n",
       "    .dataframe thead th {\n",
       "        text-align: right;\n",
       "    }\n",
       "</style>\n",
       "<table border=\"1\" class=\"dataframe\">\n",
       "  <thead>\n",
       "    <tr style=\"text-align: right;\">\n",
       "      <th></th>\n",
       "      <th>date</th>\n",
       "      <th>pm25</th>\n",
       "      <th>pm10</th>\n",
       "      <th>o3</th>\n",
       "      <th>no2</th>\n",
       "      <th>so2</th>\n",
       "      <th>co</th>\n",
       "    </tr>\n",
       "  </thead>\n",
       "  <tbody>\n",
       "    <tr>\n",
       "      <th>21</th>\n",
       "      <td>1672185600000000000</td>\n",
       "      <td>71.0</td>\n",
       "      <td>0.0</td>\n",
       "      <td>0.0</td>\n",
       "      <td>0.0</td>\n",
       "      <td>0.0</td>\n",
       "      <td>0.0</td>\n",
       "    </tr>\n",
       "    <tr>\n",
       "      <th>20</th>\n",
       "      <td>1672185600000000000</td>\n",
       "      <td>104.0</td>\n",
       "      <td>41.0</td>\n",
       "      <td>21.0</td>\n",
       "      <td>15.0</td>\n",
       "      <td>3.0</td>\n",
       "      <td>4.0</td>\n",
       "    </tr>\n",
       "    <tr>\n",
       "      <th>19</th>\n",
       "      <td>1672185600000000000</td>\n",
       "      <td>83.0</td>\n",
       "      <td>44.0</td>\n",
       "      <td>23.0</td>\n",
       "      <td>39.0</td>\n",
       "      <td>4.0</td>\n",
       "      <td>8.0</td>\n",
       "    </tr>\n",
       "    <tr>\n",
       "      <th>18</th>\n",
       "      <td>1672185600000000000</td>\n",
       "      <td>53.0</td>\n",
       "      <td>36.0</td>\n",
       "      <td>7.0</td>\n",
       "      <td>44.0</td>\n",
       "      <td>4.0</td>\n",
       "      <td>7.0</td>\n",
       "    </tr>\n",
       "    <tr>\n",
       "      <th>17</th>\n",
       "      <td>1672185600000000000</td>\n",
       "      <td>32.0</td>\n",
       "      <td>23.0</td>\n",
       "      <td>13.0</td>\n",
       "      <td>30.0</td>\n",
       "      <td>3.0</td>\n",
       "      <td>5.0</td>\n",
       "    </tr>\n",
       "    <tr>\n",
       "      <th>...</th>\n",
       "      <td>...</td>\n",
       "      <td>...</td>\n",
       "      <td>...</td>\n",
       "      <td>...</td>\n",
       "      <td>...</td>\n",
       "      <td>...</td>\n",
       "      <td>...</td>\n",
       "    </tr>\n",
       "    <tr>\n",
       "      <th>3127</th>\n",
       "      <td>1672185600000000000</td>\n",
       "      <td>0.0</td>\n",
       "      <td>49.0</td>\n",
       "      <td>10.0</td>\n",
       "      <td>38.0</td>\n",
       "      <td>7.0</td>\n",
       "      <td>6.0</td>\n",
       "    </tr>\n",
       "    <tr>\n",
       "      <th>3126</th>\n",
       "      <td>1672185600000000000</td>\n",
       "      <td>0.0</td>\n",
       "      <td>57.0</td>\n",
       "      <td>8.0</td>\n",
       "      <td>37.0</td>\n",
       "      <td>8.0</td>\n",
       "      <td>6.0</td>\n",
       "    </tr>\n",
       "    <tr>\n",
       "      <th>3125</th>\n",
       "      <td>1672185600000000000</td>\n",
       "      <td>0.0</td>\n",
       "      <td>53.0</td>\n",
       "      <td>3.0</td>\n",
       "      <td>62.0</td>\n",
       "      <td>11.0</td>\n",
       "      <td>11.0</td>\n",
       "    </tr>\n",
       "    <tr>\n",
       "      <th>3124</th>\n",
       "      <td>1672185600000000000</td>\n",
       "      <td>0.0</td>\n",
       "      <td>85.0</td>\n",
       "      <td>13.0</td>\n",
       "      <td>37.0</td>\n",
       "      <td>10.0</td>\n",
       "      <td>5.0</td>\n",
       "    </tr>\n",
       "    <tr>\n",
       "      <th>3214</th>\n",
       "      <td>1672185600000000000</td>\n",
       "      <td>0.0</td>\n",
       "      <td>0.0</td>\n",
       "      <td>18.0</td>\n",
       "      <td>34.0</td>\n",
       "      <td>12.0</td>\n",
       "      <td>6.0</td>\n",
       "    </tr>\n",
       "  </tbody>\n",
       "</table>\n",
       "<p>3215 rows × 7 columns</p>\n",
       "</div>"
      ],
      "text/plain": [
       "                     date   pm25  pm10    o3   no2   so2    co\n",
       "21    1672185600000000000   71.0   0.0   0.0   0.0   0.0   0.0\n",
       "20    1672185600000000000  104.0  41.0  21.0  15.0   3.0   4.0\n",
       "19    1672185600000000000   83.0  44.0  23.0  39.0   4.0   8.0\n",
       "18    1672185600000000000   53.0  36.0   7.0  44.0   4.0   7.0\n",
       "17    1672185600000000000   32.0  23.0  13.0  30.0   3.0   5.0\n",
       "...                   ...    ...   ...   ...   ...   ...   ...\n",
       "3127  1672185600000000000    0.0  49.0  10.0  38.0   7.0   6.0\n",
       "3126  1672185600000000000    0.0  57.0   8.0  37.0   8.0   6.0\n",
       "3125  1672185600000000000    0.0  53.0   3.0  62.0  11.0  11.0\n",
       "3124  1672185600000000000    0.0  85.0  13.0  37.0  10.0   5.0\n",
       "3214  1672185600000000000    0.0   0.0  18.0  34.0  12.0   6.0\n",
       "\n",
       "[3215 rows x 7 columns]"
      ]
     },
     "execution_count": 253,
     "metadata": {},
     "output_type": "execute_result"
    }
   ],
   "source": [
    "data_clone"
   ]
  },
  {
   "cell_type": "code",
   "execution_count": null,
   "id": "1bd53dd0",
   "metadata": {},
   "outputs": [],
   "source": []
  }
 ],
 "metadata": {
  "kernelspec": {
   "display_name": "Python 3 (ipykernel)",
   "language": "python",
   "name": "python3"
  },
  "language_info": {
   "codemirror_mode": {
    "name": "ipython",
    "version": 3
   },
   "file_extension": ".py",
   "mimetype": "text/x-python",
   "name": "python",
   "nbconvert_exporter": "python",
   "pygments_lexer": "ipython3",
   "version": "3.9.12"
  },
  "vscode": {
   "interpreter": {
    "hash": "916dbcbb3f70747c44a77c7bcd40155683ae19c65e1c03b4aa3499c5328201f1"
   }
  }
 },
 "nbformat": 4,
 "nbformat_minor": 5
}
